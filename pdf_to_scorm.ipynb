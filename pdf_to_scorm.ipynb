{
 "cells": [
  {
   "cell_type": "code",
   "execution_count": 1,
   "id": "dc94f172-c3de-41c2-8f58-31befe0ec06d",
   "metadata": {},
   "outputs": [
    {
     "name": "stdout",
     "output_type": "stream",
     "text": [
      "SCORM paketi başarıyla oluşturuldu: scorm_package.zip\n"
     ]
    }
   ],
   "source": [
    "import os\n",
    "import zipfile\n",
    "\n",
    "# SCORM yapılandırma dosyası (imsmanifest.xml)\n",
    "imsmanifest_template = \"\"\"<?xml version=\"1.0\" encoding=\"UTF-8\"?>\n",
    "<manifest identifier=\"PDF_SCORM_Package\" version=\"1.0\"\n",
    "    xmlns=\"http://www.imsproject.org/xsd/imscp_rootv1p1p2\"\n",
    "    xmlns:adlcp=\"http://www.adlnet.org/xsd/adlcp_rootv1p2\"\n",
    "    xmlns:xsi=\"http://www.w3.org/2001/XMLSchema-instance\"\n",
    "    xsi:schemaLocation=\"http://www.imsproject.org/xsd/imscp_rootv1p1p2 \n",
    "    ims_cp_rootv1p1p2.xsd http://www.adlnet.org/xsd/adlcp_rootv1p2 \n",
    "    adlcp_rootv1p2.xsd\">\n",
    "    \n",
    "    <organizations default=\"ORG\">\n",
    "        <organization identifier=\"ORG\">\n",
    "            <title>PDF SCORM Package</title>\n",
    "            <item identifier=\"ITEM1\" identifierref=\"RES1\">\n",
    "                <title>PDF Document</title>\n",
    "            </item>\n",
    "        </organization>\n",
    "    </organizations>\n",
    "\n",
    "    <resources>\n",
    "        <resource identifier=\"RES1\" type=\"webcontent\" href=\"index.html\">\n",
    "            <file href=\"index.html\"/>\n",
    "            <file href=\"document.pdf\"/>\n",
    "        </resource>\n",
    "    </resources>\n",
    "</manifest>\n",
    "\"\"\"\n",
    "\n",
    "# HTML dosyası (PDF görüntüleyici)\n",
    "html_template = \"\"\"<!DOCTYPE html>\n",
    "<html>\n",
    "<head>\n",
    "    <title>PDF SCORM Viewer</title>\n",
    "</head>\n",
    "<body>\n",
    "    <embed src=\"document.pdf\" type=\"application/pdf\" width=\"100%\" height=\"600px\" />\n",
    "</body>\n",
    "</html>\n",
    "\"\"\"\n",
    "\n",
    "def create_scorm_package(pdf_path, output_zip):\n",
    "    \"\"\"PDF dosyasını SCORM paketi haline getirir.\"\"\"\n",
    "    \n",
    "    if not os.path.exists(pdf_path):\n",
    "        print(\"PDF dosyası bulunamadı!\")\n",
    "        return\n",
    "    \n",
    "    scorm_dir = \"scorm_package\"\n",
    "    os.makedirs(scorm_dir, exist_ok=True)\n",
    "    \n",
    "    # PDF'yi kopyala\n",
    "    pdf_filename = os.path.basename(pdf_path)\n",
    "    pdf_dest = os.path.join(scorm_dir, pdf_filename)\n",
    "    os.system(f\"cp '{pdf_path}' '{pdf_dest}'\")\n",
    "    \n",
    "    # HTML dosyası oluştur\n",
    "    with open(os.path.join(scorm_dir, \"index.html\"), \"w\", encoding=\"utf-8\") as f:\n",
    "        f.write(html_template.replace(\"document.pdf\", pdf_filename))\n",
    "    \n",
    "    # imsmanifest.xml dosyası oluştur\n",
    "    with open(os.path.join(scorm_dir, \"imsmanifest.xml\"), \"w\", encoding=\"utf-8\") as f:\n",
    "        f.write(imsmanifest_template)\n",
    "    \n",
    "    # SCORM paketini ZIP olarak oluştur\n",
    "    with zipfile.ZipFile(output_zip, 'w', zipfile.ZIP_DEFLATED) as zipf:\n",
    "        for root, _, files in os.walk(scorm_dir):\n",
    "            for file in files:\n",
    "                file_path = os.path.join(root, file)\n",
    "                zipf.write(file_path, os.path.relpath(file_path, scorm_dir))\n",
    "    \n",
    "    print(f\"SCORM paketi başarıyla oluşturuldu: {output_zip}\")\n",
    "\n",
    "# Kullanım\n",
    "create_scorm_package(\"makine_ogrenmesi.pdf\", \"scorm_package.zip\")\n"
   ]
  }
 ],
 "metadata": {
  "kernelspec": {
   "display_name": "Python 3 (ipykernel)",
   "language": "python",
   "name": "python3"
  },
  "language_info": {
   "codemirror_mode": {
    "name": "ipython",
    "version": 3
   },
   "file_extension": ".py",
   "mimetype": "text/x-python",
   "name": "python",
   "nbconvert_exporter": "python",
   "pygments_lexer": "ipython3",
   "version": "3.12.2"
  }
 },
 "nbformat": 4,
 "nbformat_minor": 5
}
